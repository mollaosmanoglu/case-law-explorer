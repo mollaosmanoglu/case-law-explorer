{
 "cells": [
  {
   "cell_type": "code",
   "execution_count": 1,
   "metadata": {
    "collapsed": true
   },
   "outputs": [
    {
     "name": "stderr",
     "output_type": "stream",
     "text": [
      "/home/maxine/anaconda3/envs/case-law-explorer/lib/python3.7/site-packages/ipykernel_launcher.py:5: FutureWarning: Passing a negative integer is deprecated in version 1.0 and will not be supported in future version. Instead, use None to not limit the column width.\n",
      "  \"\"\"\n"
     ]
    }
   ],
   "source": [
    "from data_transformation import utils\n",
    "from definitions.file_paths import CSV_RS_CASES, CSV_LI_CASES, CSV_CASE_CITATIONS, CSV_LEGISLATION_CITATIONS\n",
    "import pandas as pd\n",
    "pd.set_option('display.max_columns', None)\n",
    "pd.set_option('display.max_colwidth', -1)\n",
    "from pprint import pprint\n",
    "ECLI = 'ecli'"
   ]
  },
  {
   "cell_type": "markdown",
   "metadata": {
    "collapsed": false,
    "pycharm": {
     "name": "#%% md\n"
    }
   },
   "source": [
    "# Inspection and mapping of Rechtspraak (RS) to Legal Intelligence (LI) + citation (LIDO) data"
   ]
  },
  {
   "cell_type": "markdown",
   "metadata": {
    "collapsed": false,
    "pycharm": {
     "name": "#%% md\n"
    }
   },
   "source": [
    "------------------------------------------------------------------------------------------------------------------------\n",
    "### DATES\n",
    "#### Raw dates"
   ]
  },
  {
   "cell_type": "code",
   "execution_count": 2,
   "metadata": {
    "collapsed": false,
    "pycharm": {
     "name": "#%%\n"
    }
   },
   "outputs": [
    {
     "data": {
      "text/html": [
       "<div>\n",
       "<style scoped>\n",
       "    .dataframe tbody tr th:only-of-type {\n",
       "        vertical-align: middle;\n",
       "    }\n",
       "\n",
       "    .dataframe tbody tr th {\n",
       "        vertical-align: top;\n",
       "    }\n",
       "\n",
       "    .dataframe thead th {\n",
       "        text-align: right;\n",
       "    }\n",
       "</style>\n",
       "<table border=\"1\" class=\"dataframe\">\n",
       "  <thead>\n",
       "    <tr style=\"text-align: right;\">\n",
       "      <th></th>\n",
       "      <th>ecli</th>\n",
       "      <th>issued</th>\n",
       "      <th>date</th>\n",
       "      <th>PublicationDate</th>\n",
       "      <th>EnactmentDate</th>\n",
       "      <th>DateAdded</th>\n",
       "    </tr>\n",
       "  </thead>\n",
       "  <tbody>\n",
       "    <tr>\n",
       "      <th>0</th>\n",
       "      <td>ECLI:NL:CRVB:2020:222</td>\n",
       "      <td>2020-02-03</td>\n",
       "      <td>2020-01-30</td>\n",
       "      <td>20200315.0</td>\n",
       "      <td>20200130.0</td>\n",
       "      <td>20200327.0</td>\n",
       "    </tr>\n",
       "    <tr>\n",
       "      <th>1</th>\n",
       "      <td>ECLI:NL:HR:2020:19</td>\n",
       "      <td>2020-01-24</td>\n",
       "      <td>2020-01-24</td>\n",
       "      <td>20200129.0</td>\n",
       "      <td>20200124.0</td>\n",
       "      <td>20200130.0</td>\n",
       "    </tr>\n",
       "  </tbody>\n",
       "</table>\n",
       "</div>"
      ],
      "text/plain": [
       "                    ecli      issued        date PublicationDate  \\\n",
       "0  ECLI:NL:CRVB:2020:222  2020-02-03  2020-01-30  20200315.0       \n",
       "1  ECLI:NL:HR:2020:19     2020-01-24  2020-01-24  20200129.0       \n",
       "\n",
       "  EnactmentDate   DateAdded  \n",
       "0  20200130.0    20200327.0  \n",
       "1  20200124.0    20200130.0  "
      ]
     },
     "execution_count": 2,
     "metadata": {},
     "output_type": "execute_result"
    }
   ],
   "source": [
    "dates_rs = ['issued', 'date']\n",
    "dates_li = ['PublicationDate', 'EnactmentDate', 'DateAdded']\n",
    "df_dates_rs = utils.read_csv(CSV_RS_CASES, ['identifier'] + dates_rs).rename(columns={'identifier': ECLI})\n",
    "df_dates_li = utils.read_csv(CSV_LI_CASES, [ECLI] + dates_li)\n",
    "df_dates = utils.map_cases(df_dates_rs.copy(), df_dates_li.copy())\n",
    "\n",
    "utils.not_none_rows(df_dates, number=2)"
   ]
  },
  {
   "cell_type": "markdown",
   "metadata": {
    "collapsed": false,
    "pycharm": {
     "name": "#%% md\n"
    }
   },
   "source": [
    "#### Clean dates\n",
    "(convert dates to datetime)"
   ]
  },
  {
   "cell_type": "code",
   "execution_count": 3,
   "metadata": {
    "collapsed": false,
    "pycharm": {
     "name": "#%%\n"
    }
   },
   "outputs": [
    {
     "data": {
      "text/html": [
       "<div>\n",
       "<style scoped>\n",
       "    .dataframe tbody tr th:only-of-type {\n",
       "        vertical-align: middle;\n",
       "    }\n",
       "\n",
       "    .dataframe tbody tr th {\n",
       "        vertical-align: top;\n",
       "    }\n",
       "\n",
       "    .dataframe thead th {\n",
       "        text-align: right;\n",
       "    }\n",
       "</style>\n",
       "<table border=\"1\" class=\"dataframe\">\n",
       "  <thead>\n",
       "    <tr style=\"text-align: right;\">\n",
       "      <th></th>\n",
       "      <th>ecli</th>\n",
       "      <th>issued</th>\n",
       "      <th>date</th>\n",
       "      <th>PublicationDate</th>\n",
       "      <th>EnactmentDate</th>\n",
       "      <th>DateAdded</th>\n",
       "    </tr>\n",
       "  </thead>\n",
       "  <tbody>\n",
       "    <tr>\n",
       "      <th>count</th>\n",
       "      <td>267</td>\n",
       "      <td>267</td>\n",
       "      <td>267</td>\n",
       "      <td>267</td>\n",
       "      <td>267</td>\n",
       "      <td>267</td>\n",
       "    </tr>\n",
       "    <tr>\n",
       "      <th>unique</th>\n",
       "      <td>267</td>\n",
       "      <td>78</td>\n",
       "      <td>64</td>\n",
       "      <td>156</td>\n",
       "      <td>64</td>\n",
       "      <td>149</td>\n",
       "    </tr>\n",
       "    <tr>\n",
       "      <th>top</th>\n",
       "      <td>ECLI:NL:HR:2016:339</td>\n",
       "      <td>2012-02-17</td>\n",
       "      <td>2012-02-17</td>\n",
       "      <td>2020-04-20</td>\n",
       "      <td>2012-02-17</td>\n",
       "      <td>2020-05-08</td>\n",
       "    </tr>\n",
       "    <tr>\n",
       "      <th>freq</th>\n",
       "      <td>1</td>\n",
       "      <td>10</td>\n",
       "      <td>10</td>\n",
       "      <td>11</td>\n",
       "      <td>10</td>\n",
       "      <td>10</td>\n",
       "    </tr>\n",
       "  </tbody>\n",
       "</table>\n",
       "</div>"
      ],
      "text/plain": [
       "                       ecli      issued        date PublicationDate  \\\n",
       "count   267                  267         267         267              \n",
       "unique  267                  78          64          156              \n",
       "top     ECLI:NL:HR:2016:339  2012-02-17  2012-02-17  2020-04-20       \n",
       "freq    1                    10          10          11               \n",
       "\n",
       "       EnactmentDate   DateAdded  \n",
       "count   267           267         \n",
       "unique  64            149         \n",
       "top     2012-02-17    2020-05-08  \n",
       "freq    10            10          "
      ]
     },
     "execution_count": 3,
     "metadata": {},
     "output_type": "execute_result"
    }
   ],
   "source": [
    "df_dates_clean = df_dates.apply(lambda col: col.apply(\n",
    "    lambda x: utils.format_li_date(x) if x else x) if col.name in dates_li else col)\n",
    "\n",
    "df_dates_clean.describe()"
   ]
  },
  {
   "cell_type": "markdown",
   "metadata": {
    "collapsed": false,
    "pycharm": {
     "name": "#%% md\n"
    }
   },
   "source": [
    "#### Check if RS issued always before LI PublicationDate:"
   ]
  },
  {
   "cell_type": "code",
   "execution_count": null,
   "metadata": {
    "collapsed": false,
    "pycharm": {
     "name": "#%%\n"
    }
   },
   "outputs": [],
   "source": [
    "utils.compare('issued', 'PublicationDate', '<=', df_dates)"
   ]
  },
  {
   "cell_type": "markdown",
   "metadata": {
    "collapsed": false,
    "pycharm": {
     "name": "#%% md\n"
    }
   },
   "source": [
    "#### Check for equality of RS date and LI EnactmentDate"
   ]
  },
  {
   "cell_type": "code",
   "execution_count": null,
   "metadata": {
    "collapsed": false,
    "pycharm": {
     "name": "#%%\n"
    }
   },
   "outputs": [],
   "source": [
    "utils.compare('date', 'EnactmentDate', '==', df_dates)"
   ]
  },
  {
   "cell_type": "markdown",
   "metadata": {
    "collapsed": false,
    "pycharm": {
     "name": "#%% md\n"
    }
   },
   "source": [
    "#### Check if LI EnactmentDate always before LI PublicationDate"
   ]
  },
  {
   "cell_type": "code",
   "execution_count": null,
   "metadata": {
    "collapsed": false,
    "pycharm": {
     "name": "#%%\n"
    }
   },
   "outputs": [],
   "source": [
    "utils.compare('EnactmentDate', 'PublicationDate', '<=', df_dates)"
   ]
  },
  {
   "cell_type": "markdown",
   "metadata": {
    "collapsed": false,
    "pycharm": {
     "name": "#%% md\n"
    }
   },
   "source": [
    "#### Check if LI PublicationDate always before LI DateAdded"
   ]
  },
  {
   "cell_type": "code",
   "execution_count": null,
   "metadata": {
    "collapsed": false,
    "pycharm": {
     "name": "#%%\n"
    }
   },
   "outputs": [],
   "source": [
    "utils.compare('PublicationDate', 'DateAdded', '<=', df_dates)"
   ]
  },
  {
   "cell_type": "markdown",
   "metadata": {
    "collapsed": false,
    "pycharm": {
     "name": "#%% md\n"
    }
   },
   "source": [
    "#### Summary dates:\n",
    "\n",
    "original format LI dates: YYYYMMDD (or YYYYMMDD.0 if parsed as float)<br>\n",
    "original format RS dates: YYYY-MM-DD\n",
    "\n",
    "- RS date corresponds to LI EnactmentDate --> date of decision\n",
    "- RS issued before LI PublicationDate --> date published online (on RS/ other publisher)\n",
    "- LI EnactmentDate before LI PublicationDate\n",
    "- PublicationDate before DateAdded --> DateAdded = date added to LI platform"
   ]
  },
  {
   "cell_type": "code",
   "execution_count": null,
   "metadata": {
    "collapsed": false,
    "pycharm": {
     "name": "#%%\n"
    }
   },
   "outputs": [],
   "source": [
    "del dates_rs, dates_li, df_dates, df_dates_li, df_dates_rs, df_dates_clean"
   ]
  },
  {
   "cell_type": "markdown",
   "metadata": {
    "collapsed": false,
    "pycharm": {
     "name": "#%% md\n"
    }
   },
   "source": [
    "------------------------------------------------------------------------------------------------------------------------\n",
    "### TEXTUAL INFORMATION\n",
    "#### Raw texts"
   ]
  },
  {
   "cell_type": "code",
   "execution_count": null,
   "metadata": {
    "collapsed": false,
    "pycharm": {
     "name": "#%%\n"
    }
   },
   "outputs": [],
   "source": [
    "texts_rs = ['inhoudsindicatie', 'info']\n",
    "texts_li = ['Summary']\n",
    "df_texts_rs = utils.read_csv(CSV_RS_CASES, ['identifier'] + texts_rs).rename(columns={'identifier': ECLI})\n",
    "df_texts_li = utils.read_csv(CSV_LI_CASES, [ECLI] + texts_li)\n",
    "df_texts = utils.map_cases(df_texts_rs.copy(), df_texts_li.copy())\n",
    "\n",
    "utils.not_none_rows(df_texts, number=1)"
   ]
  },
  {
   "cell_type": "markdown",
   "metadata": {
    "collapsed": false,
    "pycharm": {
     "name": "#%% md\n"
    }
   },
   "source": [
    "#### Clean texts\n",
    "(remove xml tags)"
   ]
  },
  {
   "cell_type": "code",
   "execution_count": null,
   "metadata": {
    "collapsed": false,
    "pycharm": {
     "name": "#%%\n"
    }
   },
   "outputs": [],
   "source": [
    "df_texts_clean = df_texts.apply(lambda col: col.apply(\n",
    "    lambda x: utils.format_rs_xml(x) if x else x) if col.name in texts_rs else col)\n",
    "\n",
    "df_texts_clean.describe()"
   ]
  },
  {
   "cell_type": "code",
   "execution_count": null,
   "metadata": {
    "collapsed": false,
    "pycharm": {
     "name": "#%%\n"
    }
   },
   "outputs": [],
   "source": [
    "utils.not_none_rows(df_texts_clean, number=5)"
   ]
  },
  {
   "cell_type": "markdown",
   "metadata": {
    "collapsed": false,
    "pycharm": {
     "name": "#%% md\n"
    }
   },
   "source": [
    "#### Summary text information:\n",
    "\n",
    "original format RS texts: XML <br>\n",
    "original format LI texts: plain string\n",
    "\n",
    "- LI Summary: contains a short summary of the case in natural language\n",
    "- RS inhoudsindicatie: contains keywords (legislation articles) / short summary of case\n",
    " (--> RS inhoudsindicatie ~ LI Summary (<- more informative))\n",
    "- RS info: contains meta info about case (court, case number, date, type, attorney, ...)"
   ]
  },
  {
   "cell_type": "code",
   "execution_count": null,
   "metadata": {
    "collapsed": false,
    "pycharm": {
     "name": "#%%\n"
    }
   },
   "outputs": [],
   "source": [
    "del df_texts_clean, df_texts_li, df_texts_rs, df_texts, texts_rs, texts_li"
   ]
  },
  {
   "cell_type": "markdown",
   "metadata": {
    "collapsed": false
   },
   "source": [
    "\n",
    "------------------------------------------------------------------------------------------------------------------------\n",
    "### TITLES\n",
    "#### Raw titles"
   ]
  },
  {
   "cell_type": "code",
   "execution_count": null,
   "metadata": {
    "collapsed": false,
    "pycharm": {
     "name": "#%%\n"
    }
   },
   "outputs": [],
   "source": [
    "titles_rs = ['title']\n",
    "titles_li = ['Title', 'DisplayTitle', 'DisplaySubtitle']\n",
    "\n",
    "df_titles_rs = utils.read_csv(CSV_RS_CASES, ['identifier'] + titles_rs).rename(columns={'identifier': ECLI})\n",
    "df_titles_li = utils.read_csv(CSV_LI_CASES, [ECLI] + titles_li)\n",
    "df_titles = utils.map_cases(df_titles_rs.copy(), df_titles_li.copy())\n",
    "\n",
    "utils.not_none_rows(df_titles, number=2)"
   ]
  },
  {
   "cell_type": "markdown",
   "metadata": {
    "collapsed": false,
    "pycharm": {
     "name": "#%% md\n"
    }
   },
   "source": [
    "#### Clean titles\n",
    "(remove white spaces before and after text)"
   ]
  },
  {
   "cell_type": "code",
   "execution_count": null,
   "metadata": {
    "collapsed": false,
    "pycharm": {
     "name": "#%%\n"
    }
   },
   "outputs": [],
   "source": [
    "df_titles_clean = df_titles.copy()\n",
    "df_titles_clean = df_titles_clean.apply(lambda col: col.apply(\n",
    "    lambda x: x.strip() if x else x))\n",
    "\n",
    "df_titles_clean.describe()"
   ]
  },
  {
   "cell_type": "code",
   "execution_count": null,
   "metadata": {
    "collapsed": false,
    "pycharm": {
     "name": "#%%\n"
    }
   },
   "outputs": [],
   "source": [
    "utils.not_none_rows(df_titles_clean, number=5)"
   ]
  },
  {
   "cell_type": "code",
   "execution_count": null,
   "metadata": {
    "collapsed": false,
    "pycharm": {
     "name": "#%%\n"
    }
   },
   "outputs": [],
   "source": [
    "utils.compare('Title', 'DisplaySubtitle', '==', df_titles_clean[titles_li])"
   ]
  },
  {
   "cell_type": "markdown",
   "metadata": {
    "collapsed": false
   },
   "source": [
    "Summary titles:\n",
    "\n",
    "original format RS titles: plain string<br>\n",
    "original format LI titles: plain string\n",
    "\n",
    "- LI Title == LI DisplaySubtitle: concise description of case\n",
    "- RS title ~ LI DisplayTitle: meta info about case (case number, court, date, ...)"
   ]
  },
  {
   "cell_type": "code",
   "execution_count": null,
   "metadata": {
    "collapsed": false,
    "pycharm": {
     "name": "#%%\n"
    }
   },
   "outputs": [],
   "source": [
    "del df_titles, df_titles_clean, df_titles_li, df_titles_rs, titles_li, titles_rs"
   ]
  },
  {
   "cell_type": "markdown",
   "metadata": {
    "collapsed": false
   },
   "source": [
    "------------------------------------------------------------------------------------------------------------------------\n",
    "### CASE NUMBERS\n",
    "#### Raw case numbers"
   ]
  },
  {
   "cell_type": "code",
   "execution_count": null,
   "metadata": {
    "collapsed": false,
    "pycharm": {
     "name": "#%%\n"
    }
   },
   "outputs": [],
   "source": [
    "case_numbers_rs = ['zaaknummer']\n",
    "case_numbers_li = ['Id', 'CaseNumber', 'PublicationNumber', 'IssueNumber']\n",
    "\n",
    "df_case_numbers_rs = utils.read_csv(CSV_RS_CASES, ['identifier'] + case_numbers_rs).rename(columns={'identifier': ECLI})\n",
    "df_case_numbers_li = utils.read_csv(CSV_LI_CASES, [ECLI] + case_numbers_li)\n",
    "df_case_numbers = utils.map_cases(df_case_numbers_rs.copy(), df_case_numbers_li.copy())\n",
    "\n",
    "utils.not_none_rows(df_case_numbers, number=2)"
   ]
  },
  {
   "cell_type": "markdown",
   "metadata": {
    "collapsed": false,
    "pycharm": {
     "name": "#%% md\n"
    }
   },
   "source": [
    "#### Clean case numbers\n",
    "(remove white spaces before and after text)"
   ]
  },
  {
   "cell_type": "code",
   "execution_count": null,
   "metadata": {
    "collapsed": false,
    "pycharm": {
     "name": "#%%\n"
    }
   },
   "outputs": [],
   "source": [
    "df_case_numbers_clean = df_case_numbers.apply(lambda col: col.apply(\n",
    "    lambda x: x.strip() if x else x))\n",
    "\n",
    "df_case_numbers_clean.describe()"
   ]
  },
  {
   "cell_type": "code",
   "execution_count": null,
   "metadata": {
    "collapsed": false,
    "pycharm": {
     "name": "#%%\n"
    }
   },
   "outputs": [],
   "source": [
    "utils.not_none_rows(df_case_numbers_clean, number=5)\n"
   ]
  },
  {
   "cell_type": "markdown",
   "metadata": {
    "collapsed": false
   },
   "source": [
    "#### Summary case numbers:\n",
    "\n",
    "original format RS case numbers: plain string<br>\n",
    "original format LI case numbers: plain string\n",
    "\n",
    "- RS ecli (identifier): ecli\n",
    "- RS zaaknummer: identifier before eclis introduced\n",
    "- LI Id: internal entry ID within LI\n",
    "- LI CaseNumber: combination of ecli and zaaknummer\n",
    "- LI PublicationNumber: document ID of publishing institution\n",
    "- LI IssueNumber: collection ID of publishing institution"
   ]
  },
  {
   "cell_type": "code",
   "execution_count": null,
   "metadata": {
    "collapsed": false,
    "pycharm": {
     "name": "#%%\n"
    }
   },
   "outputs": [],
   "source": [
    "del case_numbers_li, case_numbers_rs, df_case_numbers_clean, df_case_numbers_li, df_case_numbers_rs, df_case_numbers"
   ]
  },
  {
   "cell_type": "markdown",
   "metadata": {
    "collapsed": false,
    "pycharm": {
     "name": "#%% md\n"
    }
   },
   "source": [
    "------------------------------------------------------------------------------------------------------------------------\n",
    "### DOMAINS\n",
    "#### Raw domains"
   ]
  },
  {
   "cell_type": "code",
   "execution_count": null,
   "metadata": {
    "collapsed": false,
    "pycharm": {
     "name": "#%%\n"
    }
   },
   "outputs": [],
   "source": [
    "domains_rs = ['subject']\n",
    "domains_li = ['LawArea']\n",
    "\n",
    "df_domains_rs = utils.read_csv(CSV_RS_CASES, ['identifier'] + domains_rs).rename(columns={'identifier': ECLI})\n",
    "df_domains_li = utils.read_csv(CSV_LI_CASES, [ECLI] + domains_li)\n",
    "\n",
    "df_domains = utils.map_cases(df_domains_rs.copy(), df_domains_li.copy())\n",
    "\n",
    "utils.not_none_rows(df_domains, number=2)"
   ]
  },
  {
   "cell_type": "markdown",
   "metadata": {
    "collapsed": false,
    "pycharm": {
     "name": "#%% md\n"
    }
   },
   "source": [
    "#### Clean domains\n",
    "(remove white spaces before and after text, transform list notation to \"e1; e2; e3\")"
   ]
  },
  {
   "cell_type": "code",
   "execution_count": null,
   "metadata": {
    "collapsed": false,
    "pycharm": {
     "name": "#%%\n"
    }
   },
   "outputs": [],
   "source": [
    "df_domains_clean = df_domains.copy()\n",
    "df_domains_clean = df_domains_clean.apply(lambda col: col.apply(\n",
    "    lambda x: utils.format_rs_list(x) if x else x) if col.name in domains_rs else col)\n",
    "df_domains_clean = df_domains_clean.apply(lambda col: col.apply(\n",
    "    lambda x: utils.format_li_list(x) if x else x) if col.name in domains_li else col)\n",
    "\n",
    "df_domains_clean.describe()"
   ]
  },
  {
   "cell_type": "code",
   "execution_count": null,
   "metadata": {
    "collapsed": false,
    "pycharm": {
     "name": "#%%\n"
    }
   },
   "outputs": [],
   "source": [
    "# find unqiue domain names of RS and LI:\n",
    "domains_rs_list = df_domains_rs['subject'].value_counts().index.tolist()\n",
    "unique_domains_rs = list(set(sum([i.split('; ') for i in domains_rs_list], [])))\n",
    "unique_domains_rs.sort()\n",
    "print(\"Unique RS domains:\")\n",
    "pprint(unique_domains_rs)\n",
    "\n",
    "df_domains_li_clean = df_domains_li.apply(lambda col: col.apply(utils.format_li_list))\n",
    "domains_li_list = df_domains_li_clean['LawArea'].value_counts().index.tolist()\n",
    "unique_domains_li = list(set(sum([i.split('; ') for i in domains_li_list], [])))\n",
    "unique_domains_li.sort()\n",
    "print(\"\\nUnique LI domains:\")\n",
    "pprint(unique_domains_li)"
   ]
  },
  {
   "cell_type": "code",
   "execution_count": null,
   "metadata": {
    "collapsed": false,
    "pycharm": {
     "name": "#%%\n"
    }
   },
   "outputs": [],
   "source": [
    "utils.not_none_rows(df_domains_clean, number=5)"
   ]
  },
  {
   "cell_type": "markdown",
   "metadata": {
    "collapsed": false,
    "pycharm": {
     "name": "#%% md\n"
    }
   },
   "source": [
    "#### Summary domains:\n",
    "\n",
    "original format RS domains: \"d1; d2; d3\"<br>\n",
    "original format LI domains: \"['d1', 'd2', 'd3']\"\n",
    "\n",
    "- RS and LI use different notation to label case domains\n",
    "- RS and LI domains do not always match"
   ]
  },
  {
   "cell_type": "code",
   "execution_count": null,
   "metadata": {
    "collapsed": false,
    "pycharm": {
     "name": "#%%\n"
    }
   },
   "outputs": [],
   "source": [
    "del domains_rs, domains_li, df_domains_li, df_domains_rs, df_domains_clean, df_domains"
   ]
  },
  {
   "cell_type": "markdown",
   "metadata": {
    "collapsed": false,
    "pycharm": {
     "name": "#%% md\n"
    }
   },
   "source": [
    "------------------------------------------------------------------------------------------------------------------------\n",
    "### INSTANCE\n",
    "#### Raw instance"
   ]
  },
  {
   "cell_type": "code",
   "execution_count": null,
   "metadata": {
    "collapsed": false,
    "pycharm": {
     "name": "#%%\n"
    }
   },
   "outputs": [],
   "source": [
    "instance_rs = ['creator']\n",
    "instance_li = ['IssuingInstitution']\n",
    "\n",
    "df_instance_rs = utils.read_csv(CSV_RS_CASES, ['identifier'] + instance_rs).rename(columns={'identifier': ECLI})\n",
    "df_instance_li = utils.read_csv(CSV_LI_CASES, [ECLI] + instance_li)\n",
    "df_instance = utils.map_cases(df_instance_rs.copy(), df_instance_li.copy())\n",
    "\n",
    "utils.not_none_rows(df_instance, number=2)"
   ]
  },
  {
   "cell_type": "markdown",
   "metadata": {
    "collapsed": false,
    "pycharm": {
     "name": "#%% md\n"
    }
   },
   "source": [
    "#### Clean instance\n",
    "(remove white spaces before and after text)"
   ]
  },
  {
   "cell_type": "code",
   "execution_count": null,
   "metadata": {
    "collapsed": false,
    "pycharm": {
     "name": "#%%\n"
    }
   },
   "outputs": [],
   "source": [
    "df_instance_clean = df_instance.copy()\n",
    "df_instance_clean = df_instance_clean.apply(lambda col: col.apply(\n",
    "    lambda x: x.strip() if x else x))\n",
    "df_instance_clean.describe()"
   ]
  },
  {
   "cell_type": "code",
   "execution_count": null,
   "metadata": {
    "collapsed": false,
    "pycharm": {
     "name": "#%%\n"
    }
   },
   "outputs": [],
   "source": [
    "utils.compare('creator', 'IssuingInstitution', '==', df_instance, number=37)"
   ]
  },
  {
   "cell_type": "markdown",
   "metadata": {
    "collapsed": false,
    "pycharm": {
     "name": "#%% md\n"
    }
   },
   "source": [
    "#### Summary instance:\n",
    "\n",
    "- RS uses \"'s-Gravenhage\", \"'s Gravenhage\" and \"Den Haag\" to refer to Den Haag\n",
    "- LI uses only \"Den Haag\" to refer to Den Haag\n",
    "- RS \"Rechtbank\" == LI \"Sector kanton Rechtbank\")"
   ]
  },
  {
   "cell_type": "code",
   "execution_count": null,
   "metadata": {
    "collapsed": false,
    "pycharm": {
     "name": "#%%\n"
    }
   },
   "outputs": [],
   "source": [
    "del instance_li, instance_rs, df_instance_li, df_instance_clean, df_instance, df_instance_rs"
   ]
  },
  {
   "cell_type": "markdown",
   "metadata": {
    "collapsed": false,
    "pycharm": {
     "name": "#%% md\n"
    }
   },
   "source": [
    "------------------------------------------------------------------------------------------------------------------------\n",
    "### JURISDICTION\n",
    "#### Raw jurisdiction"
   ]
  },
  {
   "cell_type": "code",
   "execution_count": null,
   "metadata": {
    "collapsed": false,
    "pycharm": {
     "name": "#%%\n"
    }
   },
   "outputs": [],
   "source": [
    "jurisdiction_rs = ['spatial', 'jurisdiction_country']\n",
    "jurisdiction_li = ['Jurisdiction']\n",
    "\n",
    "df_jurisdiction_rs = utils.read_csv(CSV_RS_CASES, ['identifier'] + jurisdiction_rs).rename(columns={'identifier': ECLI})\n",
    "df_jurisdiction_li = utils.read_csv(CSV_LI_CASES, [ECLI] + jurisdiction_li)\n",
    "df_jurisdiction = utils.map_cases(df_jurisdiction_rs.copy(), df_jurisdiction_li.copy())\n",
    "\n",
    "utils.not_none_rows(df_jurisdiction, number=2)"
   ]
  },
  {
   "cell_type": "markdown",
   "metadata": {
    "collapsed": false,
    "pycharm": {
     "name": "#%% md\n"
    }
   },
   "source": [
    "#### Clean jurisdiction\n",
    "(remove white spaces before and after text)"
   ]
  },
  {
   "cell_type": "code",
   "execution_count": null,
   "metadata": {
    "collapsed": false,
    "pycharm": {
     "name": "#%%\n"
    }
   },
   "outputs": [],
   "source": [
    "df_jurisdiction_clean = df_jurisdiction.copy()\n",
    "df_jurisdiction_clean = df_jurisdiction_clean.apply(lambda col: col.apply(\n",
    "    lambda x: x.strip() if x else x))"
   ]
  },
  {
   "cell_type": "code",
   "execution_count": null,
   "metadata": {
    "collapsed": false,
    "pycharm": {
     "name": "#%%\n"
    }
   },
   "outputs": [],
   "source": [
    "df_jurisdiction_clean.describe()\n"
   ]
  },
  {
   "cell_type": "code",
   "execution_count": null,
   "metadata": {
    "collapsed": false,
    "pycharm": {
     "name": "#%%\n"
    }
   },
   "outputs": [],
   "source": [
    "print('Unique RS spatial values: ', df_jurisdiction_rs['spatial'].unique())\n",
    "print('Unique RS jurisdiction values: ', df_jurisdiction_rs['jurisdiction_country'].unique())\n",
    "print('Unique LI jurisdiction values: ', df_jurisdiction_li['Jurisdiction'].unique())"
   ]
  },
  {
   "cell_type": "markdown",
   "metadata": {
    "collapsed": false,
    "pycharm": {
     "name": "#%% md\n"
    }
   },
   "source": [
    "#### Summary jurisdiction\n",
    "\n",
    "- RS and LI jurisdiction are always \"NL\" but notation needs to be aligned (LI \"Nederland\" --> RS \"NL\")"
   ]
  },
  {
   "cell_type": "code",
   "execution_count": null,
   "metadata": {
    "collapsed": false,
    "pycharm": {
     "name": "#%%\n"
    }
   },
   "outputs": [],
   "source": [
    "del df_jurisdiction, df_jurisdiction_li, df_jurisdiction_rs, df_jurisdiction_clean, jurisdiction_li, jurisdiction_rs"
   ]
  },
  {
   "cell_type": "markdown",
   "metadata": {
    "collapsed": false,
    "pycharm": {
     "name": "#%% md\n"
    }
   },
   "source": [
    "------------------------------------------------------------------------------------------------------------------------\n",
    "### LINKS\n",
    "#### Raw links"
   ]
  },
  {
   "cell_type": "code",
   "execution_count": null,
   "metadata": {
    "collapsed": false,
    "pycharm": {
     "name": "#%%\n"
    }
   },
   "outputs": [],
   "source": [
    "links_rs = ['identifier2']\n",
    "links_li = ['Url', 'OriginalUrl']\n",
    "\n",
    "df_links_rs = utils.read_csv(CSV_RS_CASES, ['identifier'] + links_rs).rename(columns={'identifier': ECLI})\n",
    "df_links_li = utils.read_csv(CSV_LI_CASES, [ECLI] + links_li)\n",
    "df_links = utils.map_cases(df_links_rs.copy(), df_links_li.copy())\n",
    "\n",
    "utils.not_none_rows(df_links, number=2)"
   ]
  },
  {
   "cell_type": "markdown",
   "metadata": {
    "collapsed": false,
    "pycharm": {
     "name": "#%% md\n"
    }
   },
   "source": [
    "#### Clean links\n",
    "(remove white spaces before and after text)"
   ]
  },
  {
   "cell_type": "code",
   "execution_count": null,
   "metadata": {
    "collapsed": false,
    "pycharm": {
     "name": "#%%\n"
    }
   },
   "outputs": [],
   "source": [
    "df_links_clean = df_links.copy()\n",
    "df_links_clean = df_links_clean.apply(lambda col: col.apply(\n",
    "    lambda x: x.strip() if x else x))\n",
    "\n",
    "df_links_clean.describe()"
   ]
  },
  {
   "cell_type": "code",
   "execution_count": null,
   "metadata": {
    "collapsed": false,
    "pycharm": {
     "name": "#%%\n"
    }
   },
   "outputs": [],
   "source": [
    "utils.not_none_rows(df_links_clean, number=5)"
   ]
  },
  {
   "cell_type": "markdown",
   "metadata": {
    "collapsed": false,
    "pycharm": {
     "name": "#%% md\n"
    }
   },
   "source": [
    "#### Summary links:\n",
    "\n",
    "- RS \"identifier2\": deeplink to case publication on Rechtspraak.nl\n",
    "- LI \"Url\": link to LI entry of case\n",
    "- LI \"OriginalUrl_li\": link to case publication of publisher (on Navigator)"
   ]
  },
  {
   "cell_type": "code",
   "execution_count": null,
   "metadata": {
    "collapsed": false,
    "pycharm": {
     "name": "#%%\n"
    }
   },
   "outputs": [],
   "source": [
    "del links_li, links_rs, df_links_clean, df_links, df_links_li, df_links_rs"
   ]
  },
  {
   "cell_type": "markdown",
   "metadata": {
    "collapsed": false,
    "pycharm": {
     "name": "#%% md\n"
    }
   },
   "source": [
    "------------------------------------------------------------------------------------------------------------------------\n",
    "### SOURCES:\n",
    "#### Raw sources"
   ]
  },
  {
   "cell_type": "code",
   "execution_count": null,
   "metadata": {
    "collapsed": false,
    "pycharm": {
     "name": "#%%\n"
    }
   },
   "outputs": [],
   "source": [
    "sources_rs = ['source']\n",
    "sources_li = ['DocumentType']\n",
    "\n",
    "df_sources_rs = utils.read_csv(CSV_RS_CASES, ['identifier'] + sources_rs).rename(columns={'identifier': ECLI})\n",
    "df_sources_li = utils.read_csv(CSV_LI_CASES, [ECLI] + sources_li)\n",
    "df_sources = utils.map_cases(df_sources_rs.copy(), df_sources_li.copy())\n",
    "\n",
    "utils.not_none_rows(df_sources, number=2)"
   ]
  },
  {
   "cell_type": "markdown",
   "metadata": {
    "collapsed": false,
    "pycharm": {
     "name": "#%% md\n"
    }
   },
   "source": [
    "#### Clean sources\n",
    "(remove white spaces before and after text)"
   ]
  },
  {
   "cell_type": "code",
   "execution_count": null,
   "metadata": {
    "collapsed": false,
    "pycharm": {
     "name": "#%%\n"
    }
   },
   "outputs": [],
   "source": [
    "df_sources_clean = df_sources.copy()\n",
    "df_sources_clean = df_sources_clean.apply(lambda col: col.apply(\n",
    "    lambda x: x.strip() if x else x))\n",
    "\n",
    "df_sources_clean.describe()"
   ]
  },
  {
   "cell_type": "code",
   "execution_count": null,
   "metadata": {
    "collapsed": false,
    "pycharm": {
     "name": "#%%\n"
    }
   },
   "outputs": [],
   "source": [
    "print('Unique RS source values: ', df_sources_rs['source'].unique())\n",
    "print('Unique LI DocumentType values: ', df_sources_li['DocumentType'].unique())"
   ]
  },
  {
   "cell_type": "markdown",
   "metadata": {
    "collapsed": false
   },
   "source": [
    "#### Summary sources:\n",
    "\n",
    "- RS Source == LI DocumentType == 'Rechtspraak'"
   ]
  },
  {
   "cell_type": "code",
   "execution_count": null,
   "metadata": {
    "collapsed": false,
    "pycharm": {
     "name": "#%%\n"
    }
   },
   "outputs": [],
   "source": [
    "del sources_li, sources_rs, df_sources_clean, df_sources, df_sources_li, df_sources_rs"
   ]
  },
  {
   "cell_type": "markdown",
   "metadata": {
    "collapsed": false,
    "pycharm": {
     "name": "#%% md\n"
    }
   },
   "source": [
    "------------------------------------------------------------------------------------------------------------------------\n",
    "### ALTERNATIVE SOURCES:\n",
    "#### Raw alternative sources"
   ]
  },
  {
   "cell_type": "code",
   "execution_count": null,
   "metadata": {
    "collapsed": false,
    "pycharm": {
     "name": "#%%\n"
    }
   },
   "outputs": [],
   "source": [
    "alt_sources_rs = ['hasVersion']\n",
    "alt_sources_li = ['Sources']\n",
    "\n",
    "df_alt_sources_rs = utils.read_csv(CSV_RS_CASES, ['identifier'] + alt_sources_rs).rename(columns={'identifier': ECLI})\n",
    "df_alt_sources_li = utils.read_csv(CSV_LI_CASES, [ECLI] + alt_sources_li)\n",
    "df_alt_sources = utils.map_cases(df_alt_sources_rs.copy(), df_alt_sources_li.copy())\n",
    "\n",
    "utils.not_none_rows(df_alt_sources, number=2)"
   ]
  },
  {
   "cell_type": "markdown",
   "metadata": {
    "collapsed": false,
    "pycharm": {
     "name": "#%% md\n"
    }
   },
   "source": [
    "#### Clean alt_sources\n",
    "(remove white spaces before and after text, remove xml tags, format lists)"
   ]
  },
  {
   "cell_type": "code",
   "execution_count": null,
   "metadata": {
    "collapsed": false,
    "pycharm": {
     "name": "#%%\n"
    }
   },
   "outputs": [],
   "source": [
    "df_alt_sources_clean = df_alt_sources.copy()\n",
    "df_alt_sources_clean = df_alt_sources_clean.apply(lambda col: col.apply(\n",
    "    lambda x: utils.format_rs_alt_sources(x) if x else x) if col.name in alt_sources_rs else col)\n",
    "df_alt_sources_clean = df_alt_sources_clean.apply(lambda col: col.apply(\n",
    "    lambda x: utils.format_li_list(x) if x else x) if col.name in alt_sources_li else col)\n",
    "\n",
    "df_alt_sources_clean.describe()"
   ]
  },
  {
   "cell_type": "code",
   "execution_count": null,
   "metadata": {
    "collapsed": false,
    "pycharm": {
     "name": "#%%\n"
    }
   },
   "outputs": [],
   "source": [
    "utils.not_none_rows(df_alt_sources_clean, number=5)"
   ]
  },
  {
   "cell_type": "markdown",
   "metadata": {
    "collapsed": false
   },
   "source": [
    "#### Summary alternative sources:\n",
    "\n",
    "- RS hasVersion: list of alternative publications with comment on type of publication\n",
    "- LI Sources: list of alternative publications\n",
    "- RS hasVersion and LI Sources do not always match"
   ]
  },
  {
   "cell_type": "code",
   "execution_count": null,
   "metadata": {
    "collapsed": false,
    "pycharm": {
     "name": "#%%\n"
    }
   },
   "outputs": [],
   "source": [
    "del alt_sources_li, alt_sources_rs, df_alt_sources_clean, df_alt_sources_li, df_alt_sources_rs, df_alt_sources"
   ]
  },
  {
   "cell_type": "markdown",
   "metadata": {
    "collapsed": false
   },
   "source": [
    "------------------------------------------------------------------------------------------------------------------------\n",
    "### OTHER:"
   ]
  },
  {
   "cell_type": "code",
   "execution_count": null,
   "metadata": {
    "collapsed": false,
    "pycharm": {
     "name": "#%%\n"
    }
   },
   "outputs": [],
   "source": [
    "other_rs = ['language', 'type', 'procedure'] # 'full_text' too big!\n",
    "\n",
    "df_other_rs = utils.read_csv(CSV_RS_CASES, ['identifier'] + other_rs).rename(columns={'identifier': ECLI})\n",
    "\n",
    "# clean other (remove white spaces before and after text)\n",
    "df_other_clean = df_other_rs.apply(lambda col: col.apply(lambda x: x.strip() if x else x))"
   ]
  },
  {
   "cell_type": "code",
   "execution_count": null,
   "metadata": {
    "collapsed": false,
    "pycharm": {
     "name": "#%%\n"
    }
   },
   "outputs": [],
   "source": [
    "df_other_clean.describe()"
   ]
  },
  {
   "cell_type": "code",
   "execution_count": null,
   "metadata": {
    "collapsed": false,
    "pycharm": {
     "name": "#%%\n"
    }
   },
   "outputs": [],
   "source": [
    "utils.not_none_rows(df_other_clean[['procedure']], number=5)"
   ]
  },
  {
   "cell_type": "markdown",
   "metadata": {
    "collapsed": false
   },
   "source": [
    "#### Summary other:\n",
    "\n",
    "- RS language: always 'NL'\n",
    "- RS type: always 'Uitspraak' (in opinions.csv: always 'Conclusie')\n",
    "- RS procedure: procedure type of case"
   ]
  },
  {
   "cell_type": "code",
   "execution_count": null,
   "metadata": {
    "collapsed": false,
    "pycharm": {
     "name": "#%%\n"
    }
   },
   "outputs": [],
   "source": [
    "del other_rs, df_other_clean, df_other_rs"
   ]
  },
  {
   "cell_type": "markdown",
   "metadata": {
    "collapsed": false,
    "pycharm": {
     "name": "#%% md\n"
    }
   },
   "source": [
    "------------------------------------------------------------------------------------------------------------------------\n",
    "###  CASE CITATIONS\n",
    "#### Raw case citations"
   ]
  },
  {
   "cell_type": "code",
   "execution_count": null,
   "metadata": {
    "collapsed": false,
    "pycharm": {
     "name": "#%%\n"
    }
   },
   "outputs": [],
   "source": [
    "relations_rs = ['relation']\n",
    "relations_lido = ['target_ecli']\n",
    "#relations_lido = ['Jurisprudentie'] in new pipeline  # change in new pipeline\n",
    "\n",
    "df_relations_rs = utils.read_csv(CSV_RS_CASES, ['identifier'] + relations_rs).rename(columns={'identifier': ECLI})\n",
    "df_relations_li = utils.read_csv(CSV_CASE_CITATIONS, ['source_ecli'] + relations_lido).rename(columns={'source_ecli': ECLI})\n",
    "#df_relations_li = utils.read_csv(CSV_CASE_CITATIONS, [ECLI] + relations_lido)  # change in new pipeline\n",
    "df_relations = utils.map_cases(df_relations_rs.copy(), df_relations_li.copy())\n",
    "\n",
    "utils.not_none_rows(df_relations_rs, number=2)"
   ]
  },
  {
   "cell_type": "code",
   "execution_count": null,
   "metadata": {
    "collapsed": false,
    "pycharm": {
     "name": "#%%\n"
    }
   },
   "outputs": [],
   "source": [
    "utils.not_none_rows(df_relations_li, number=2)"
   ]
  },
  {
   "cell_type": "markdown",
   "metadata": {
    "collapsed": false,
    "pycharm": {
     "name": "#%% md\n"
    }
   },
   "source": [
    "#### Clean case citations\n",
    "(remove white spaces before and after text, format lists)"
   ]
  },
  {
   "cell_type": "code",
   "execution_count": null,
   "metadata": {
    "collapsed": false,
    "pycharm": {
     "name": "#%%\n"
    }
   },
   "outputs": [],
   "source": [
    "df_relations_rs_clean = df_relations_rs.copy()\n",
    "df_relations_rs_clean = df_relations_rs_clean.apply(lambda col: col.apply(\n",
    "    lambda x: utils.format_rs_list(x) if x else x) if col.name in relations_rs else col)\n",
    "\n",
    "df_relations_rs_clean.describe()"
   ]
  },
  {
   "cell_type": "code",
   "execution_count": null,
   "metadata": {
    "collapsed": false,
    "pycharm": {
     "name": "#%%\n"
    }
   },
   "outputs": [],
   "source": [
    "df_relations_li.describe()"
   ]
  },
  {
   "cell_type": "code",
   "execution_count": null,
   "metadata": {
    "collapsed": false,
    "pycharm": {
     "name": "#%%\n"
    }
   },
   "outputs": [],
   "source": [
    "utils.not_none_rows(df_relations_rs_clean, number=5)"
   ]
  },
  {
   "cell_type": "code",
   "execution_count": null,
   "metadata": {
    "collapsed": false,
    "pycharm": {
     "name": "#%%\n"
    }
   },
   "outputs": [],
   "source": [
    "utils.not_none_rows(df_relations, number=5)"
   ]
  },
  {
   "cell_type": "markdown",
   "metadata": {
    "collapsed": false
   },
   "source": [
    "#### Summary case citations:\n",
    "\n",
    "- RS relation: list of case numbers with comment or procedure type (mostly None)\n",
    "- LIDO target_ecli: ecli of cited case\n",
    "- no cases with both RS relation and LIDO target_ecli value"
   ]
  },
  {
   "cell_type": "code",
   "execution_count": null,
   "metadata": {
    "collapsed": false,
    "pycharm": {
     "name": "#%%\n"
    }
   },
   "outputs": [],
   "source": [
    "del relations_rs, relations_lido, df_relations_li, df_relations_rs, df_relations"
   ]
  },
  {
   "cell_type": "markdown",
   "metadata": {
    "collapsed": false,
    "pycharm": {
     "name": "#%% md\n"
    }
   },
   "source": [
    "------------------------------------------------------------------------------------------------------------------------\n",
    "### LEGISLATION CITATIONS\n",
    "#### Raw legislation citations"
   ]
  },
  {
   "cell_type": "code",
   "execution_count": 2,
   "metadata": {
    "collapsed": false,
    "pycharm": {
     "name": "#%%\n"
    }
   },
   "outputs": [
    {
     "data": {
      "text/html": [
       "<div>\n",
       "<style scoped>\n",
       "    .dataframe tbody tr th:only-of-type {\n",
       "        vertical-align: middle;\n",
       "    }\n",
       "\n",
       "    .dataframe tbody tr th {\n",
       "        vertical-align: top;\n",
       "    }\n",
       "\n",
       "    .dataframe thead th {\n",
       "        text-align: right;\n",
       "    }\n",
       "</style>\n",
       "<table border=\"1\" class=\"dataframe\">\n",
       "  <thead>\n",
       "    <tr style=\"text-align: right;\">\n",
       "      <th></th>\n",
       "      <th>ecli</th>\n",
       "      <th>references</th>\n",
       "      <th>target_article</th>\n",
       "      <th>target_article_webpage</th>\n",
       "    </tr>\n",
       "  </thead>\n",
       "  <tbody>\n",
       "    <tr>\n",
       "      <th>0</th>\n",
       "      <td>ECLI:NL:CBB:1996:AH6240</td>\n",
       "      <td>Algemene wet bestuursrecht, Grondwet, Grondwet 21</td>\n",
       "      <td>http://linkeddata.overheid.nl/terms/bwb/id/BWBR0005537/2816734/2016-05-20/2016-05-20</td>\n",
       "      <td>http://wetten.overheid.nl/id/BWBR0005537/2016-05-20/0</td>\n",
       "    </tr>\n",
       "    <tr>\n",
       "      <th>1</th>\n",
       "      <td>ECLI:NL:CBB:1996:AH6240</td>\n",
       "      <td>Algemene wet bestuursrecht, Grondwet, Grondwet 21</td>\n",
       "      <td>http://linkeddata.overheid.nl/terms/bwb/id/BWBR0005537/2815054/2005-07-01/2005-07-01</td>\n",
       "      <td>http://wetten.overheid.nl/id/BWBR0005537/2005-07-01/0/Hoofdstuk6/Afdeling6.2/Artikel6:8</td>\n",
       "    </tr>\n",
       "  </tbody>\n",
       "</table>\n",
       "</div>"
      ],
      "text/plain": [
       "                      ecli                                         references  \\\n",
       "0  ECLI:NL:CBB:1996:AH6240  Algemene wet bestuursrecht, Grondwet, Grondwet 21   \n",
       "1  ECLI:NL:CBB:1996:AH6240  Algemene wet bestuursrecht, Grondwet, Grondwet 21   \n",
       "\n",
       "                                                                         target_article  \\\n",
       "0  http://linkeddata.overheid.nl/terms/bwb/id/BWBR0005537/2816734/2016-05-20/2016-05-20   \n",
       "1  http://linkeddata.overheid.nl/terms/bwb/id/BWBR0005537/2815054/2005-07-01/2005-07-01   \n",
       "\n",
       "                                                                    target_article_webpage  \n",
       "0  http://wetten.overheid.nl/id/BWBR0005537/2016-05-20/0                                    \n",
       "1  http://wetten.overheid.nl/id/BWBR0005537/2005-07-01/0/Hoofdstuk6/Afdeling6.2/Artikel6:8  "
      ]
     },
     "execution_count": 2,
     "metadata": {},
     "output_type": "execute_result"
    }
   ],
   "source": [
    "references_rs = ['references']\n",
    "references_lido = ['target_article', 'target_article_webpage']\n",
    "#references_lido = ['Wet', 'Artikel']  # change in new pipeline\n",
    "\n",
    "\n",
    "df_references_rs = utils.read_csv(CSV_RS_CASES, ['identifier'] + references_rs).rename(columns={'identifier': ECLI})\n",
    "df_references_li = utils.read_csv(CSV_LEGISLATION_CITATIONS, ['source_ecli'] + references_lido).rename(columns={'source_ecli': ECLI})\n",
    "#df_references_li = utils.read_csv(CSV_LEGISLATION_CITATIONS, [ECLI] + references_lido)  # change in new pipeline\n",
    "df_references = utils.map_cases(df_references_rs.copy(), df_references_li.copy())"
   ]
  },
  {
   "cell_type": "code",
   "execution_count": 7,
   "metadata": {
    "collapsed": false,
    "pycharm": {
     "name": "#%%\n"
    }
   },
   "outputs": [
    {
     "data": {
      "text/html": [
       "<div>\n",
       "<style scoped>\n",
       "    .dataframe tbody tr th:only-of-type {\n",
       "        vertical-align: middle;\n",
       "    }\n",
       "\n",
       "    .dataframe tbody tr th {\n",
       "        vertical-align: top;\n",
       "    }\n",
       "\n",
       "    .dataframe thead th {\n",
       "        text-align: right;\n",
       "    }\n",
       "</style>\n",
       "<table border=\"1\" class=\"dataframe\">\n",
       "  <thead>\n",
       "    <tr style=\"text-align: right;\">\n",
       "      <th></th>\n",
       "      <th>ecli</th>\n",
       "      <th>references</th>\n",
       "      <th>target_article</th>\n",
       "      <th>target_article_webpage</th>\n",
       "    </tr>\n",
       "  </thead>\n",
       "  <tbody>\n",
       "    <tr>\n",
       "      <th>0</th>\n",
       "      <td>ECLI:NL:CBB:1996:AH6240</td>\n",
       "      <td>Algemene wet bestuursrecht, Grondwet, Grondwet 21</td>\n",
       "      <td>http://linkeddata.overheid.nl/terms/bwb/id/BWBR0005537/2816734/2016-05-20/2016-05-20</td>\n",
       "      <td>http://wetten.overheid.nl/id/BWBR0005537/2016-05-20/0</td>\n",
       "    </tr>\n",
       "    <tr>\n",
       "      <th>1</th>\n",
       "      <td>ECLI:NL:CBB:1996:AH6240</td>\n",
       "      <td>Algemene wet bestuursrecht, Grondwet, Grondwet 21</td>\n",
       "      <td>http://linkeddata.overheid.nl/terms/bwb/id/BWBR0005537/2815054/2005-07-01/2005-07-01</td>\n",
       "      <td>http://wetten.overheid.nl/id/BWBR0005537/2005-07-01/0/Hoofdstuk6/Afdeling6.2/Artikel6:8</td>\n",
       "    </tr>\n",
       "    <tr>\n",
       "      <th>2</th>\n",
       "      <td>ECLI:NL:CBB:1996:AH6240</td>\n",
       "      <td>Algemene wet bestuursrecht, Grondwet, Grondwet 21</td>\n",
       "      <td>http://linkeddata.overheid.nl/terms/bwb/id/BWBR0005537/2816444/2013-01-01/2013-01-01</td>\n",
       "      <td>http://wetten.overheid.nl/id/BWBR0005537/2013-01-01/1/Hoofdstuk8/Titeldeel8.2/Afdeling8.2.6/Artikel8:75</td>\n",
       "    </tr>\n",
       "    <tr>\n",
       "      <th>3</th>\n",
       "      <td>ECLI:NL:CBB:1996:AH6240</td>\n",
       "      <td>Algemene wet bestuursrecht, Grondwet, Grondwet 21</td>\n",
       "      <td>http://linkeddata.overheid.nl/terms/bwb/id/BWBR0005537/2815134/1994-01-01/1994-01-01</td>\n",
       "      <td>http://wetten.overheid.nl/id/BWBR0005537/2003-03-12/0/Hoofdstuk6/Afdeling6.2/Artikel6:16</td>\n",
       "    </tr>\n",
       "    <tr>\n",
       "      <th>4</th>\n",
       "      <td>ECLI:NL:CBB:1996:AH6240</td>\n",
       "      <td>Algemene wet bestuursrecht, Grondwet, Grondwet 21</td>\n",
       "      <td>http://linkeddata.overheid.nl/terms/bwb/id/BWBR0005537/2816734/2016-07-01/2016-07-01</td>\n",
       "      <td>http://wetten.overheid.nl/id/BWBR0005537/2016-07-01/1</td>\n",
       "    </tr>\n",
       "    <tr>\n",
       "      <th>...</th>\n",
       "      <td>...</td>\n",
       "      <td>...</td>\n",
       "      <td>...</td>\n",
       "      <td>...</td>\n",
       "    </tr>\n",
       "    <tr>\n",
       "      <th>805</th>\n",
       "      <td>ECLI:NL:CBB:1996:ZG0591</td>\n",
       "      <td>Administratiebesluit Bijzondere Ziektekostenverzekering 6, Wet op de toegang tot ziektekostenverzekeringen 6f</td>\n",
       "      <td>http://linkeddata.overheid.nl/terms/bwb/id/BWBR0002089/2655554/2000-01-01/2000-01-01</td>\n",
       "      <td>http://wetten.overheid.nl/id/BWBR0002089/2006-12-20/0/Artikel8</td>\n",
       "    </tr>\n",
       "    <tr>\n",
       "      <th>806</th>\n",
       "      <td>ECLI:NL:CBB:1996:ZG0591</td>\n",
       "      <td>Administratiebesluit Bijzondere Ziektekostenverzekering 6, Wet op de toegang tot ziektekostenverzekeringen 6f</td>\n",
       "      <td>http://linkeddata.overheid.nl/terms/bwb/id/BWBR0005537/2815124/2017-06-12/2017-06-12</td>\n",
       "      <td>http://wetten.overheid.nl/id/BWBR0005537/2017-06-12/0/Hoofdstuk6/Afdeling6.2/Artikel6:15</td>\n",
       "    </tr>\n",
       "    <tr>\n",
       "      <th>807</th>\n",
       "      <td>ECLI:NL:CBB:1996:ZG0591</td>\n",
       "      <td>Administratiebesluit Bijzondere Ziektekostenverzekering 6, Wet op de toegang tot ziektekostenverzekeringen 6f</td>\n",
       "      <td>http://linkeddata.overheid.nl/terms/bwb/id/BWBR0001840/2940704/2008-07-15/2008-07-15</td>\n",
       "      <td>http://wetten.overheid.nl/id/BWBR0001840/2008-07-15/0/Hoofdstuk1/Artikel21</td>\n",
       "    </tr>\n",
       "    <tr>\n",
       "      <th>808</th>\n",
       "      <td>ECLI:NL:CBB:1996:ZG0591</td>\n",
       "      <td>Administratiebesluit Bijzondere Ziektekostenverzekering 6, Wet op de toegang tot ziektekostenverzekeringen 6f</td>\n",
       "      <td>http://linkeddata.overheid.nl/terms/bwb/id/BWBR0005537/2814684/1994-01-01/1994-01-01</td>\n",
       "      <td>http://wetten.overheid.nl/id/BWBR0005537/2002-12-01/0/Hoofdstuk3/Afdeling3.6/Artikel3:45</td>\n",
       "    </tr>\n",
       "    <tr>\n",
       "      <th>809</th>\n",
       "      <td>ECLI:NL:CBB:1996:ZG0591</td>\n",
       "      <td>Administratiebesluit Bijzondere Ziektekostenverzekering 6, Wet op de toegang tot ziektekostenverzekeringen 6f</td>\n",
       "      <td>http://linkeddata.overheid.nl/terms/bwb/id/BWBR0005537/2815084/1994-01-01/1994-01-01</td>\n",
       "      <td>http://wetten.overheid.nl/id/BWBR0005537/2002-05-08/0/Hoofdstuk6/Afdeling6.2/Artikel6:11</td>\n",
       "    </tr>\n",
       "  </tbody>\n",
       "</table>\n",
       "<p>500 rows × 4 columns</p>\n",
       "</div>"
      ],
      "text/plain": [
       "                        ecli  \\\n",
       "0    ECLI:NL:CBB:1996:AH6240   \n",
       "1    ECLI:NL:CBB:1996:AH6240   \n",
       "2    ECLI:NL:CBB:1996:AH6240   \n",
       "3    ECLI:NL:CBB:1996:AH6240   \n",
       "4    ECLI:NL:CBB:1996:AH6240   \n",
       "..                       ...   \n",
       "805  ECLI:NL:CBB:1996:ZG0591   \n",
       "806  ECLI:NL:CBB:1996:ZG0591   \n",
       "807  ECLI:NL:CBB:1996:ZG0591   \n",
       "808  ECLI:NL:CBB:1996:ZG0591   \n",
       "809  ECLI:NL:CBB:1996:ZG0591   \n",
       "\n",
       "                                                                                                        references  \\\n",
       "0    Algemene wet bestuursrecht, Grondwet, Grondwet 21                                                               \n",
       "1    Algemene wet bestuursrecht, Grondwet, Grondwet 21                                                               \n",
       "2    Algemene wet bestuursrecht, Grondwet, Grondwet 21                                                               \n",
       "3    Algemene wet bestuursrecht, Grondwet, Grondwet 21                                                               \n",
       "4    Algemene wet bestuursrecht, Grondwet, Grondwet 21                                                               \n",
       "..                                                 ...                                                               \n",
       "805  Administratiebesluit Bijzondere Ziektekostenverzekering 6, Wet op de toegang tot ziektekostenverzekeringen 6f   \n",
       "806  Administratiebesluit Bijzondere Ziektekostenverzekering 6, Wet op de toegang tot ziektekostenverzekeringen 6f   \n",
       "807  Administratiebesluit Bijzondere Ziektekostenverzekering 6, Wet op de toegang tot ziektekostenverzekeringen 6f   \n",
       "808  Administratiebesluit Bijzondere Ziektekostenverzekering 6, Wet op de toegang tot ziektekostenverzekeringen 6f   \n",
       "809  Administratiebesluit Bijzondere Ziektekostenverzekering 6, Wet op de toegang tot ziektekostenverzekeringen 6f   \n",
       "\n",
       "                                                                           target_article  \\\n",
       "0    http://linkeddata.overheid.nl/terms/bwb/id/BWBR0005537/2816734/2016-05-20/2016-05-20   \n",
       "1    http://linkeddata.overheid.nl/terms/bwb/id/BWBR0005537/2815054/2005-07-01/2005-07-01   \n",
       "2    http://linkeddata.overheid.nl/terms/bwb/id/BWBR0005537/2816444/2013-01-01/2013-01-01   \n",
       "3    http://linkeddata.overheid.nl/terms/bwb/id/BWBR0005537/2815134/1994-01-01/1994-01-01   \n",
       "4    http://linkeddata.overheid.nl/terms/bwb/id/BWBR0005537/2816734/2016-07-01/2016-07-01   \n",
       "..                                                                                    ...   \n",
       "805  http://linkeddata.overheid.nl/terms/bwb/id/BWBR0002089/2655554/2000-01-01/2000-01-01   \n",
       "806  http://linkeddata.overheid.nl/terms/bwb/id/BWBR0005537/2815124/2017-06-12/2017-06-12   \n",
       "807  http://linkeddata.overheid.nl/terms/bwb/id/BWBR0001840/2940704/2008-07-15/2008-07-15   \n",
       "808  http://linkeddata.overheid.nl/terms/bwb/id/BWBR0005537/2814684/1994-01-01/1994-01-01   \n",
       "809  http://linkeddata.overheid.nl/terms/bwb/id/BWBR0005537/2815084/1994-01-01/1994-01-01   \n",
       "\n",
       "                                                                                      target_article_webpage  \n",
       "0    http://wetten.overheid.nl/id/BWBR0005537/2016-05-20/0                                                    \n",
       "1    http://wetten.overheid.nl/id/BWBR0005537/2005-07-01/0/Hoofdstuk6/Afdeling6.2/Artikel6:8                  \n",
       "2    http://wetten.overheid.nl/id/BWBR0005537/2013-01-01/1/Hoofdstuk8/Titeldeel8.2/Afdeling8.2.6/Artikel8:75  \n",
       "3    http://wetten.overheid.nl/id/BWBR0005537/2003-03-12/0/Hoofdstuk6/Afdeling6.2/Artikel6:16                 \n",
       "4    http://wetten.overheid.nl/id/BWBR0005537/2016-07-01/1                                                    \n",
       "..                                                     ...                                                    \n",
       "805  http://wetten.overheid.nl/id/BWBR0002089/2006-12-20/0/Artikel8                                           \n",
       "806  http://wetten.overheid.nl/id/BWBR0005537/2017-06-12/0/Hoofdstuk6/Afdeling6.2/Artikel6:15                 \n",
       "807  http://wetten.overheid.nl/id/BWBR0001840/2008-07-15/0/Hoofdstuk1/Artikel21                               \n",
       "808  http://wetten.overheid.nl/id/BWBR0005537/2002-12-01/0/Hoofdstuk3/Afdeling3.6/Artikel3:45                 \n",
       "809  http://wetten.overheid.nl/id/BWBR0005537/2002-05-08/0/Hoofdstuk6/Afdeling6.2/Artikel6:11                 \n",
       "\n",
       "[500 rows x 4 columns]"
      ]
     },
     "execution_count": 7,
     "metadata": {},
     "output_type": "execute_result"
    }
   ],
   "source": [
    "utils.not_none_rows(df_references, number=500)"
   ]
  },
  {
   "cell_type": "markdown",
   "metadata": {
    "collapsed": false,
    "pycharm": {
     "name": "#%% md\n"
    }
   },
   "source": [
    "#### Clean legislation citations\n",
    "(remove white spaces before and after text, format lists)"
   ]
  },
  {
   "cell_type": "code",
   "execution_count": null,
   "metadata": {
    "collapsed": false,
    "pycharm": {
     "name": "#%%\n"
    }
   },
   "outputs": [],
   "source": [
    "df_references_clean = df_references.copy()\n",
    "df_references_clean = df_references_clean.apply(lambda col: col.apply(\n",
    "    lambda x: utils.format_rs_list(x) if x else x) if col.name in references_rs else col)\n",
    "\n",
    "df_references_clean.describe()"
   ]
  },
  {
   "cell_type": "code",
   "execution_count": null,
   "metadata": {
    "collapsed": false,
    "pycharm": {
     "name": "#%%\n"
    }
   },
   "outputs": [],
   "source": [
    "utils.not_none_rows(df_references_clean, number=5)\n"
   ]
  },
  {
   "cell_type": "markdown",
   "metadata": {
    "collapsed": false
   },
   "source": [
    "### Summary legislation citations:\n",
    "\n",
    "- RS references: list of legislation titles\n",
    "- LIDO Wet: link to LIDO entry of legislation or article (linkeddata.overheid.nl)\n",
    "- LIDO Artikel: link to publication of legislation or article (wetten.overheid.nl)"
   ]
  },
  {
   "cell_type": "code",
   "execution_count": null,
   "metadata": {
    "collapsed": false,
    "pycharm": {
     "name": "#%%\n"
    }
   },
   "outputs": [],
   "source": [
    "del references_lido, references_rs, df_references, df_references_clean, df_references_li, df_references_rs"
   ]
  }
 ],
 "metadata": {
  "kernelspec": {
   "display_name": "Python 3",
   "language": "python",
   "name": "python3"
  },
  "language_info": {
   "codemirror_mode": {
    "name": "ipython",
    "version": 2
   },
   "file_extension": ".py",
   "mimetype": "text/x-python",
   "name": "python",
   "nbconvert_exporter": "python",
   "pygments_lexer": "ipython2",
   "version": "2.7.6"
  }
 },
 "nbformat": 4,
 "nbformat_minor": 0
}
